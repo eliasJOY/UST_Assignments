{
 "cells": [
  {
   "cell_type": "code",
   "execution_count": 10,
   "metadata": {},
   "outputs": [],
   "source": [
    "# Class used for Expenses\n",
    "class Expense:\n",
    "    def __init__(self,expense_id,date,category,desc,amt):\n",
    "        self.expense_id=expense_id\n",
    "        self.date=date\n",
    "        self.category=category\n",
    "        self.desc=desc\n",
    "        self.amt=amt\n",
    "\n",
    "    def __str__(self):\n",
    "        return (f\"Expense ID:{self.expense_id} \"\n",
    "                f\"Date:{self.date} \"\n",
    "                f\"Category:{self.category} \"\n",
    "                f\"Description:{self.desc} \"\n",
    "                f\"Amount:{self.amt}\")"
   ]
  },
  {
   "cell_type": "code",
   "execution_count": 11,
   "metadata": {},
   "outputs": [],
   "source": [
    "# User database\n",
    "users={'user1':'pass1','user2':'pass2','user3':'pass3'}"
   ]
  },
  {
   "cell_type": "code",
   "execution_count": 12,
   "metadata": {},
   "outputs": [],
   "source": [
    "# Functions used in Expense tracker\n",
    "expenses = []\n",
    "def add_expense(expense):\n",
    "    expenses.append(expense)\n",
    "\n",
    "def update_expense(expense_id,new_expense):\n",
    "    for i,expense in enumerate(expenses):\n",
    "        if expense.expense_id == expense_id:\n",
    "            expenses[i] = new_expense\n",
    "            print(f\"ExpenseID {expense_id} Updated\")\n",
    "            return\n",
    "        print(\"Expense not found!\")\n",
    "\n",
    "def delete_expense(expense_id):\n",
    "    for i,expense in enumerate(expenses):\n",
    "        if expense.expense_id == expense_id:\n",
    "            del expenses[i]\n",
    "            print(\"ExpenseID {expense_id} deleted\")\n",
    "            return\n",
    "        print(\"Expense not found!\")\n",
    "\n",
    "def display_expense():\n",
    "    if not expenses:\n",
    "        print(\"No Expenses\")\n",
    "    for expense in expenses:\n",
    "        print(expense)\n",
    "\n",
    "\n",
    "\n",
    "def authenticate_user(username,password):    \n",
    "    if username in users and users[username] == password:\n",
    "        print(\"Login Successful\")\n",
    "        return True\n",
    "    else:\n",
    "        print(\"Login Failed\")\n",
    "        return False\n",
    "\n",
    "def categorize_expense():\n",
    "    categories={}\n",
    "    for exp in expenses:\n",
    "        if exp.category in categories:\n",
    "            categories[exp.category] +=exp.amt\n",
    "        else:\n",
    "            categories[exp.category] = exp.amt\n",
    "    return categories\n",
    "    \n",
    "def summerize_expenses():\n",
    "    total=0\n",
    "    for exp in expenses:\n",
    "        tot+=exp.amt\n",
    "    return tot\n",
    "\n",
    "def calculate_total_expenses():\n",
    "    return sum(exp.amt for exp in expenses)\n",
    "\n",
    "def generate_summmary_report():\n",
    "    categories = categorize_expense()\n",
    "    for category,amount in categories.items():\n",
    "        print(f\"Category:{category}, Total:{amount}\")\n",
    "    total = calculate_total_expenses()\n",
    "    print(f\"Total Expense:{total}\")\n"
   ]
  },
  {
   "cell_type": "code",
   "execution_count": 13,
   "metadata": {},
   "outputs": [],
   "source": [
    "#Function for Menue driven user interaction\n",
    "def CLI():\n",
    "    while True:\n",
    "        print('''Expense Tracker\n",
    "                1=>Login\n",
    "                2=>Exit''')\n",
    "        inp = int(input(\"Enter choice:\"))\n",
    "        if inp == 1:\n",
    "\n",
    "            if not authenticate_user(input(\"Username: \"),input(\"Password:\")):\n",
    "                print(\"User not authenticated\")\n",
    "                return\n",
    "            while True:\n",
    "                print('''\\nTracker\n",
    "                        1=> Add new expense\n",
    "                        2=> Update expense\n",
    "                        3=> Delete expense\n",
    "                        4=> Display all expenses\n",
    "                        5=> Generate expense summery\n",
    "                        6=> Logout''')\n",
    "                \n",
    "                choice = int(input(\"Enter option:\"))\n",
    "\n",
    "                if choice == 1:\n",
    "                    expense_id = input(\"ExpenseID:\")\n",
    "                    date = input(\"Date:\")\n",
    "                    category = input(\"Category:\")\n",
    "                    desc = input(\"Description:\")\n",
    "                    amt = float(input(\"Amount:\"))\n",
    "                    \n",
    "                    add_expense(Expense(expense_id,date,category,desc,amt))\n",
    "\n",
    "                elif choice == 2:\n",
    "                    expense_id = input(\"ExpenseID to update:\")\n",
    "                    date = input(\"New date:\")\n",
    "                    category = input(\"New Category:\")\n",
    "                    desc = input(\"New Description:\")\n",
    "                    amt = float(input(\"New Amount:\"))    \n",
    "\n",
    "                    update_expense(expense_id,Expense(expense_id,date,category,desc,amt))\n",
    "\n",
    "                elif choice == 3:\n",
    "                    expense_id = input(\"ExpenseID to delete:\")\n",
    "                    delete_expense(expense_id)\n",
    "\n",
    "                elif choice == 4:\n",
    "                    display_expense()\n",
    "                    \n",
    "                elif choice == 5:\n",
    "                    generate_summmary_report()\n",
    "\n",
    "                elif choice == 6:\n",
    "                    print(\"logging out...\")\n",
    "                    break\n",
    "                else:\n",
    "                    print(\"Choose a valid option\")\n",
    "\n",
    "\n",
    "        elif inp == 2:\n",
    "            return\n",
    "        else:\n",
    "            print(\"Choose a valid option\")\n"
   ]
  },
  {
   "cell_type": "code",
   "execution_count": null,
   "metadata": {},
   "outputs": [
    {
     "name": "stdout",
     "output_type": "stream",
     "text": [
      "Expense Tracker\n",
      "                1=>Login\n",
      "                2=>Exit\n"
     ]
    },
    {
     "name": "stdin",
     "output_type": "stream",
     "text": [
      "Enter choice: 1\n",
      "Username:  user1\n",
      "Password: pass1\n"
     ]
    },
    {
     "name": "stdout",
     "output_type": "stream",
     "text": [
      "Login Successful\n",
      "\n",
      "Tracker\n",
      "                        1=> Add new expense\n",
      "                        2=> Update expense\n",
      "                        3=> Delete expense\n",
      "                        4=> Display all expenses\n",
      "                        5=> Generate expense summery\n",
      "                        6=> Logout\n"
     ]
    },
    {
     "name": "stdin",
     "output_type": "stream",
     "text": [
      "Enter option: 4\n"
     ]
    },
    {
     "name": "stdout",
     "output_type": "stream",
     "text": [
      "Expense ID:100 Date:10/10/2024 Category:Food Description:Burger at chicking Amount:300.0\n",
      "Expense ID:100 Date:10/10/2023 Category:Food Description:burger Amount:200.0\n",
      "\n",
      "Tracker\n",
      "                        1=> Add new expense\n",
      "                        2=> Update expense\n",
      "                        3=> Delete expense\n",
      "                        4=> Display all expenses\n",
      "                        5=> Generate expense summery\n",
      "                        6=> Logout\n"
     ]
    }
   ],
   "source": [
    "#Run Expense Tracker\n",
    "CLI()"
   ]
  },
  {
   "cell_type": "code",
   "execution_count": null,
   "metadata": {},
   "outputs": [],
   "source": []
  }
 ],
 "metadata": {
  "kernelspec": {
   "display_name": "Python 3 (ipykernel)",
   "language": "python",
   "name": "python3"
  },
  "language_info": {
   "codemirror_mode": {
    "name": "ipython",
    "version": 3
   },
   "file_extension": ".py",
   "mimetype": "text/x-python",
   "name": "python",
   "nbconvert_exporter": "python",
   "pygments_lexer": "ipython3",
   "version": "3.12.4"
  }
 },
 "nbformat": 4,
 "nbformat_minor": 4
}
