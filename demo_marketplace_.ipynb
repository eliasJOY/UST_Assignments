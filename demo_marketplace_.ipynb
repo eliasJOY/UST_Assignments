{
 "cells": [
  {
   "cell_type": "code",
   "execution_count": 1,
   "metadata": {},
   "outputs": [],
   "source": [
    "import random"
   ]
  },
  {
   "cell_type": "code",
   "execution_count": 2,
   "metadata": {},
   "outputs": [],
   "source": [
    "#User and Admin databases\n",
    "user_db = {'user1':'pass1','user2':'pass2','user3':'pass3'}\n",
    "admin_db = {'admin1':'pass1','admin2':'pass2'}"
   ]
  },
  {
   "cell_type": "code",
   "execution_count": 3,
   "metadata": {},
   "outputs": [],
   "source": [
    "# User and Admin login functions\n",
    "def user_login():\n",
    "    username = input(\"Enter username:\")\n",
    "    password = input(\"Enter password:\")\n",
    "\n",
    "    if username in user_db and user_db[username] == password:\n",
    "        print(\"Login Successful as User\")\n",
    "        return True\n",
    "    else:\n",
    "        print(\"Login Failed\")\n",
    "        return False\n",
    "\n",
    "def admin_login():\n",
    "    username = input(\"Enter username:\")\n",
    "    password = input(\"Enter password:\")\n",
    "\n",
    "    if username in admin_db and admin_db[username] == password:\n",
    "        print(\"Login Successful as Admin\")\n",
    "        return True\n",
    "    else:\n",
    "        print(\"Login Failed\")\n",
    "        return False\n",
    "\n",
    "def generate_session_id():\n",
    "    sessionID = random.randint(1000,2000)\n",
    "    return sessionID\n",
    "\n"
   ]
  },
  {
   "cell_type": "code",
   "execution_count": 4,
   "metadata": {},
   "outputs": [],
   "source": [
    "# Catlog of products\n",
    "catlog = [{'id':111,'name':'Krack jack','category':'food','price':20},\n",
    "          {'id':121,'name':'Galaxy S23','category':'electronics','price':55000},\n",
    "          {'id':131,'name':'USPA polo','category':'clothing','price':5000},\n",
    "          {'id':141,'name':'Mac air 3','category':'electronics','price':80000},\n",
    "          {'id':151,'name':'Nike shirt','category':'clothing','price':2000},\n",
    "          {'id':161,'name':'Cheese pizza','category':'food','price':200},\n",
    "          {'id':171,'name':'Air pods','category':'electronics','price':20000}]\n",
    "\n",
    "def display_catlog():\n",
    "    print(\"\\nProduct Catalog:\")\n",
    "    for item in catlog:\n",
    "        print(f\"ID:{item['id']}, Name:{item['name']}, Category:{item['category']}, Price:Rs.{item['price']}\")\n"
   ]
  },
  {
   "cell_type": "code",
   "execution_count": 5,
   "metadata": {},
   "outputs": [],
   "source": [
    "# User Functions\n",
    "cart = []\n",
    "def display_cart():\n",
    "    if not cart:\n",
    "        print(\"\\nYour Cart is Empty\")\n",
    "    else:\n",
    "        print(\"\\nYour Cart has:\")\n",
    "        for item in cart:\n",
    "            print(item)\n",
    "\n",
    "def add_to_cart(sessionID,productID,qty):\n",
    "    for product in catlog:\n",
    "        if product['id'] == productID:\n",
    "            item = {'SessionID':sessionID, 'ProductID':productID,'Name':product['name'], 'Quantity':qty}\n",
    "            cart.append(item)\n",
    "            print(f\"Addes {qty} of {product['name']} to your Cart\")\n",
    "            return\n",
    "        print(\"Product not found!\")\n",
    " \n",
    "def delete_from_cart(sessionID,productID):\n",
    "    for item in cart:\n",
    "        if item['productID'] == productID and item['SessionID'] == sessionID:\n",
    "            cart.remove(item)\n",
    "            print(f\"Removed {item['Name']} from Cart\")\n",
    "            return\n",
    "        print(\"Item not found in Cart\")\n",
    "\n",
    "\n",
    "def checkout():\n",
    "    print('''Checkout\n",
    "            1=>Net Banking\n",
    "            2=>PayPal\n",
    "            3=>UPI Payment''')\n",
    "    \n",
    "    pay_method = int(input(\"\\nEnter payment method :\"))\n",
    "    if pay_method==1:\n",
    "        print(\"Payment initiated through Net Banking\")\n",
    "    \n",
    "    elif pay_method==1:\n",
    "        print(\"Payment initiated through PayPal\")\n",
    "    \n",
    "    elif pay_method==2:\n",
    "        print(\"Payment initiated through UPI\")\n",
    "    else:\n",
    "        print(\"Invalid payment method\")\n",
    "    print(\"Order is succesfully placed\")\n"
   ]
  },
  {
   "cell_type": "code",
   "execution_count": 6,
   "metadata": {},
   "outputs": [],
   "source": [
    "# Admin functions\n",
    "def add_product():\n",
    "    productID = int(input(\"Enter productID:\"))\n",
    "    productName = input(\"Enter Product Name:\")\n",
    "    productCat = input(\"Enter Product category:\")\n",
    "    productPrice = int(input(\"Enter Product price:\"))\n",
    "\n",
    "    newProd = {'id':productID, 'name':productName, 'category':productCat, 'price':productPrice}\n",
    "\n",
    "    catlog.append(newProd)\n",
    "    print(f\"New product {productName} added\")\n",
    "\n",
    "def update_product():\n",
    "        productID = int(input(\"Enter productID:\"))\n",
    "        for product in catlog:\n",
    "            if product['id'] == productID:\n",
    "                product['name'] = input(\"Enter new name:\")\n",
    "                product['category'] = input(\"Enter new category:\")\n",
    "                product['price'] = input(\"Enter new price:\")\n",
    "\n",
    "                print(f\"Product Updated\")\n",
    "                return\n",
    "        print(\"Product not found!\")\n",
    "\n",
    "def remove_product():\n",
    "    productID = int(input(\"Enter productID:\"))\n",
    "\n",
    "    for product in catlog:\n",
    "        if product['id'] == productID:\n",
    "            catlog.remove(product)\n",
    "            print(f\"Product removed\")\n",
    "            return\n",
    "    print(\"Product not found!\")\n",
    "    \n",
    "\n",
    "def admin_func():\n",
    "    print('''Admin Functions\n",
    "            1=> Add Products\n",
    "            2=> Updating Products\n",
    "            3=> Remove products\n",
    "            4=> LogOut''')\n",
    "           \n",
    "    choice=int(input(\"\\nEnter choice:\"))\n",
    "\n",
    "    if choice == 1:\n",
    "        add_product()\n",
    "    elif choice == 2:\n",
    "        update_product()\n",
    "    elif choice == 3:\n",
    "        remove_product()\n",
    "    elif choice == 4:\n",
    "        print(\"Logging out...\")\n",
    "        return\n",
    "    else:\n",
    "        print(\"Invalid choice\")\n",
    "\n"
   ]
  },
  {
   "cell_type": "code",
   "execution_count": null,
   "metadata": {},
   "outputs": [
    {
     "name": "stdout",
     "output_type": "stream",
     "text": [
      "Welcome to the Demo Marketplace\n"
     ]
    },
    {
     "name": "stdin",
     "output_type": "stream",
     "text": [
      "Are you a USER or an ADMIN :  user\n",
      "Enter username: user1\n",
      "Enter password: pass1\n"
     ]
    },
    {
     "name": "stdout",
     "output_type": "stream",
     "text": [
      "Login Successful as User\n",
      "Choose Option\n",
      "                        1=> View Cart\n",
      "                        2=> Add to Cart\n",
      "                        3=> Delete from Cart\n",
      "                        4=> View Catlog\n",
      "                        5=> Checkout\n",
      "                        6=> LogOut\n"
     ]
    },
    {
     "name": "stdin",
     "output_type": "stream",
     "text": [
      "Enter choice: 4\n"
     ]
    },
    {
     "name": "stdout",
     "output_type": "stream",
     "text": [
      "\n",
      "Product Catalog:\n",
      "ID:111, Name:Krack jack, Category:food, Price:Rs.20\n",
      "ID:121, Name:Galaxy S23, Category:electronics, Price:Rs.55000\n",
      "ID:131, Name:USPA polo, Category:clothing, Price:Rs.5000\n",
      "ID:141, Name:Mac air 3, Category:electronics, Price:Rs.80000\n",
      "ID:151, Name:Nike shirt, Category:clothing, Price:Rs.2000\n",
      "ID:161, Name:Cheese pizza, Category:food, Price:Rs.200\n",
      "ID:171, Name:Air pods, Category:electronics, Price:Rs.20000\n",
      "Choose Option\n",
      "                        1=> View Cart\n",
      "                        2=> Add to Cart\n",
      "                        3=> Delete from Cart\n",
      "                        4=> View Catlog\n",
      "                        5=> Checkout\n",
      "                        6=> LogOut\n"
     ]
    },
    {
     "name": "stdin",
     "output_type": "stream",
     "text": [
      "Enter choice: 2\n",
      "Enter ProductID : 131\n",
      "Enter qty : 2\n"
     ]
    },
    {
     "name": "stdout",
     "output_type": "stream",
     "text": [
      "Product not found!\n",
      "Product not found!\n",
      "Addes 2 of USPA polo to your Cart\n",
      "Choose Option\n",
      "                        1=> View Cart\n",
      "                        2=> Add to Cart\n",
      "                        3=> Delete from Cart\n",
      "                        4=> View Catlog\n",
      "                        5=> Checkout\n",
      "                        6=> LogOut\n"
     ]
    },
    {
     "name": "stdin",
     "output_type": "stream",
     "text": [
      "Enter choice: 1\n"
     ]
    },
    {
     "name": "stdout",
     "output_type": "stream",
     "text": [
      "\n",
      "Your Cart has:\n",
      "{'SessionID': 1626, 'ProductID': 131, 'Name': 'USPA polo', 'Quantity': 2}\n",
      "Choose Option\n",
      "                        1=> View Cart\n",
      "                        2=> Add to Cart\n",
      "                        3=> Delete from Cart\n",
      "                        4=> View Catlog\n",
      "                        5=> Checkout\n",
      "                        6=> LogOut\n"
     ]
    },
    {
     "name": "stdin",
     "output_type": "stream",
     "text": [
      "Enter choice: 2\n",
      "Enter ProductID : 131\n",
      "Enter qty : 1\n"
     ]
    },
    {
     "name": "stdout",
     "output_type": "stream",
     "text": [
      "Product not found!\n",
      "Product not found!\n",
      "Addes 1 of USPA polo to your Cart\n",
      "Choose Option\n",
      "                        1=> View Cart\n",
      "                        2=> Add to Cart\n",
      "                        3=> Delete from Cart\n",
      "                        4=> View Catlog\n",
      "                        5=> Checkout\n",
      "                        6=> LogOut\n"
     ]
    },
    {
     "name": "stdin",
     "output_type": "stream",
     "text": [
      "Enter choice: 1\n"
     ]
    },
    {
     "name": "stdout",
     "output_type": "stream",
     "text": [
      "\n",
      "Your Cart has:\n",
      "{'SessionID': 1626, 'ProductID': 131, 'Name': 'USPA polo', 'Quantity': 2}\n",
      "{'SessionID': 1626, 'ProductID': 131, 'Name': 'USPA polo', 'Quantity': 1}\n",
      "Choose Option\n",
      "                        1=> View Cart\n",
      "                        2=> Add to Cart\n",
      "                        3=> Delete from Cart\n",
      "                        4=> View Catlog\n",
      "                        5=> Checkout\n",
      "                        6=> LogOut\n"
     ]
    },
    {
     "name": "stdin",
     "output_type": "stream",
     "text": [
      "Enter choice: 5\n"
     ]
    },
    {
     "name": "stdout",
     "output_type": "stream",
     "text": [
      "Checkout\n",
      "            1=>Net Banking\n",
      "            2=>PayPal\n",
      "            3=>UPI Payment\n"
     ]
    },
    {
     "name": "stdin",
     "output_type": "stream",
     "text": [
      "\n",
      "Enter payment method : 3\n"
     ]
    },
    {
     "name": "stdout",
     "output_type": "stream",
     "text": [
      "Invalid payment method\n",
      "Order is succesfully placed\n"
     ]
    },
    {
     "name": "stdin",
     "output_type": "stream",
     "text": [
      "Are you a USER or an ADMIN :  1\n"
     ]
    },
    {
     "name": "stdout",
     "output_type": "stream",
     "text": [
      "Enter a valid choice or to exit enter (exit)\n"
     ]
    },
    {
     "name": "stdin",
     "output_type": "stream",
     "text": [
      "Are you a USER or an ADMIN :  user\n",
      "Enter username: user1\n",
      "Enter password: pass1\n"
     ]
    },
    {
     "name": "stdout",
     "output_type": "stream",
     "text": [
      "Login Successful as User\n",
      "Choose Option\n",
      "                        1=> View Cart\n",
      "                        2=> Add to Cart\n",
      "                        3=> Delete from Cart\n",
      "                        4=> View Catlog\n",
      "                        5=> Checkout\n",
      "                        6=> LogOut\n"
     ]
    },
    {
     "name": "stdin",
     "output_type": "stream",
     "text": [
      "Enter choice: 1\n"
     ]
    },
    {
     "name": "stdout",
     "output_type": "stream",
     "text": [
      "\n",
      "Your Cart has:\n",
      "{'SessionID': 1626, 'ProductID': 131, 'Name': 'USPA polo', 'Quantity': 2}\n",
      "{'SessionID': 1626, 'ProductID': 131, 'Name': 'USPA polo', 'Quantity': 1}\n",
      "Choose Option\n",
      "                        1=> View Cart\n",
      "                        2=> Add to Cart\n",
      "                        3=> Delete from Cart\n",
      "                        4=> View Catlog\n",
      "                        5=> Checkout\n",
      "                        6=> LogOut\n"
     ]
    }
   ],
   "source": [
    "\n",
    "# Main program\n",
    "\n",
    "print(\"Welcome to the Demo Marketplace\")\n",
    "\n",
    "while True:    \n",
    "    choice = input(\"Are you a USER or an ADMIN : \")\n",
    "\n",
    "    if str.lower(choice) == \"user\":\n",
    "        if user_login():\n",
    "            sessionID = generate_session_id()\n",
    "            while True:\n",
    "                print('''Choose Option\n",
    "                        1=> View Cart\n",
    "                        2=> Add to Cart\n",
    "                        3=> Delete from Cart\n",
    "                        4=> View Catlog\n",
    "                        5=> Checkout\n",
    "                        6=> LogOut''')\n",
    "                inp = int(input(\"Enter choice:\"))\n",
    "\n",
    "                if  inp == 1:\n",
    "                    display_cart()\n",
    "                elif inp == 2:\n",
    "                    prodID = int(input(\"Enter ProductID :\"))\n",
    "                    qty = int(input(\"Enter qty :\"))\n",
    "                    add_to_cart(sessionID,prodID,qty)\n",
    "                elif inp == 3:\n",
    "                    prodID = int(input(\"Enter ProductID :\"))\n",
    "                    delete_from_cart(sessionID,prodID)\n",
    "                elif inp == 4:\n",
    "                    display_catlog()\n",
    "                elif inp == 5:\n",
    "                    checkout()\n",
    "                    break\n",
    "                elif inp == 6:\n",
    "                    print(\"Logging Out...\")\n",
    "                    break\n",
    "                else:\n",
    "                    print(\"Invalid choice\")\n",
    "        else:\n",
    "            print(\"....\")\n",
    "\n",
    "     \n",
    "    elif str.lower(choice) == \"admin\":\n",
    "\n",
    "        if admin_login():\n",
    "            admin_func()\n",
    "        \n",
    "        else:\n",
    "            print(\"....\")\n",
    "    elif str.lower(choice) == \"exit\":\n",
    "        print(\"Exiting...\")\n",
    "        break\n",
    "    else:\n",
    "        print(\"Enter a valid choice or to exit enter (exit)\")\n",
    "        "
   ]
  },
  {
   "cell_type": "code",
   "execution_count": null,
   "metadata": {},
   "outputs": [],
   "source": []
  }
 ],
 "metadata": {
  "kernelspec": {
   "display_name": "Python 3 (ipykernel)",
   "language": "python",
   "name": "python3"
  },
  "language_info": {
   "codemirror_mode": {
    "name": "ipython",
    "version": 3
   },
   "file_extension": ".py",
   "mimetype": "text/x-python",
   "name": "python",
   "nbconvert_exporter": "python",
   "pygments_lexer": "ipython3",
   "version": "3.12.4"
  }
 },
 "nbformat": 4,
 "nbformat_minor": 4
}
